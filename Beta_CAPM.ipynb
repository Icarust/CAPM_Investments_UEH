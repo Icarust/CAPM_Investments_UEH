{
 "cells": [
  {
   "cell_type": "markdown",
   "id": "32d07e7d",
   "metadata": {},
   "source": [
    "## Set-up Input data"
   ]
  },
  {
   "cell_type": "code",
   "execution_count": 10,
   "id": "5f61f789",
   "metadata": {},
   "outputs": [
    {
     "name": "stdout",
     "output_type": "stream",
     "text": [
      "The autoreload extension is already loaded. To reload it, use:\n",
      "  %reload_ext autoreload\n"
     ]
    }
   ],
   "source": [
    "import numpy as np\n",
    "import pandas as pd\n",
    "from scipy import stats\n",
    "import statsmodels.api as sm\n",
    "import seaborn as sns\n",
    "import matplotlib.pyplot as plt\n",
    "import Input_Inv as Input\n",
    "\n",
    "%load_ext autoreload\n",
    "%autoreload 2"
   ]
  },
  {
   "cell_type": "code",
   "execution_count": 11,
   "id": "53428adf",
   "metadata": {},
   "outputs": [],
   "source": [
    "tickers = ['MBB.csv','VCB.csv','MWG.csv','PHR.csv','DHG.csv','LGC.csv','VNIndex.csv','VN30.csv']\n",
    "port = pd.DataFrame()\n",
    "for t in tickers:\n",
    "    port[t] = Input.read_data(t)['Close']"
   ]
  },
  {
   "cell_type": "code",
   "execution_count": 12,
   "id": "f4caadd7",
   "metadata": {
    "scrolled": false
   },
   "outputs": [
    {
     "data": {
      "text/html": [
       "<div>\n",
       "<style scoped>\n",
       "    .dataframe tbody tr th:only-of-type {\n",
       "        vertical-align: middle;\n",
       "    }\n",
       "\n",
       "    .dataframe tbody tr th {\n",
       "        vertical-align: top;\n",
       "    }\n",
       "\n",
       "    .dataframe thead th {\n",
       "        text-align: right;\n",
       "    }\n",
       "</style>\n",
       "<table border=\"1\" class=\"dataframe\">\n",
       "  <thead>\n",
       "    <tr style=\"text-align: right;\">\n",
       "      <th></th>\n",
       "      <th>MBB.csv</th>\n",
       "      <th>VCB.csv</th>\n",
       "      <th>MWG.csv</th>\n",
       "      <th>PHR.csv</th>\n",
       "      <th>DHG.csv</th>\n",
       "      <th>LGC.csv</th>\n",
       "      <th>VNIndex.csv</th>\n",
       "      <th>VN30.csv</th>\n",
       "    </tr>\n",
       "    <tr>\n",
       "      <th>Date</th>\n",
       "      <th></th>\n",
       "      <th></th>\n",
       "      <th></th>\n",
       "      <th></th>\n",
       "      <th></th>\n",
       "      <th></th>\n",
       "      <th></th>\n",
       "      <th></th>\n",
       "    </tr>\n",
       "  </thead>\n",
       "  <tbody>\n",
       "    <tr>\n",
       "      <th>2017-01-03</th>\n",
       "      <td>13095.0</td>\n",
       "      <td>27643</td>\n",
       "      <td>37061</td>\n",
       "      <td>14304.0</td>\n",
       "      <td>65933.0</td>\n",
       "      <td>23000.0</td>\n",
       "      <td>672.01</td>\n",
       "      <td>633.89</td>\n",
       "    </tr>\n",
       "    <tr>\n",
       "      <th>2017-01-04</th>\n",
       "      <td>12952.0</td>\n",
       "      <td>27457</td>\n",
       "      <td>37203</td>\n",
       "      <td>14385.0</td>\n",
       "      <td>68200.0</td>\n",
       "      <td>24600.0</td>\n",
       "      <td>674.70</td>\n",
       "      <td>632.70</td>\n",
       "    </tr>\n",
       "    <tr>\n",
       "      <th>2017-01-05</th>\n",
       "      <td>12857.0</td>\n",
       "      <td>27569</td>\n",
       "      <td>37321</td>\n",
       "      <td>14547.0</td>\n",
       "      <td>68200.0</td>\n",
       "      <td>25100.0</td>\n",
       "      <td>675.81</td>\n",
       "      <td>634.83</td>\n",
       "    </tr>\n",
       "    <tr>\n",
       "      <th>2017-01-06</th>\n",
       "      <td>13095.0</td>\n",
       "      <td>28125</td>\n",
       "      <td>37321</td>\n",
       "      <td>14197.0</td>\n",
       "      <td>67333.0</td>\n",
       "      <td>25100.0</td>\n",
       "      <td>679.80</td>\n",
       "      <td>636.34</td>\n",
       "    </tr>\n",
       "    <tr>\n",
       "      <th>2017-01-09</th>\n",
       "      <td>13048.0</td>\n",
       "      <td>28719</td>\n",
       "      <td>37061</td>\n",
       "      <td>14008.0</td>\n",
       "      <td>67667.0</td>\n",
       "      <td>25600.0</td>\n",
       "      <td>682.57</td>\n",
       "      <td>638.40</td>\n",
       "    </tr>\n",
       "    <tr>\n",
       "      <th>...</th>\n",
       "      <td>...</td>\n",
       "      <td>...</td>\n",
       "      <td>...</td>\n",
       "      <td>...</td>\n",
       "      <td>...</td>\n",
       "      <td>...</td>\n",
       "      <td>...</td>\n",
       "      <td>...</td>\n",
       "    </tr>\n",
       "    <tr>\n",
       "      <th>2021-12-27</th>\n",
       "      <td>28150.0</td>\n",
       "      <td>79800</td>\n",
       "      <td>134900</td>\n",
       "      <td>72000.0</td>\n",
       "      <td>115600.0</td>\n",
       "      <td>NaN</td>\n",
       "      <td>1488.88</td>\n",
       "      <td>1514.55</td>\n",
       "    </tr>\n",
       "    <tr>\n",
       "      <th>2021-12-28</th>\n",
       "      <td>28300.0</td>\n",
       "      <td>80000</td>\n",
       "      <td>135800</td>\n",
       "      <td>71700.0</td>\n",
       "      <td>115900.0</td>\n",
       "      <td>48750.0</td>\n",
       "      <td>1494.39</td>\n",
       "      <td>1523.54</td>\n",
       "    </tr>\n",
       "    <tr>\n",
       "      <th>2021-12-29</th>\n",
       "      <td>28300.0</td>\n",
       "      <td>79500</td>\n",
       "      <td>134400</td>\n",
       "      <td>70800.0</td>\n",
       "      <td>113400.0</td>\n",
       "      <td>46250.0</td>\n",
       "      <td>1485.82</td>\n",
       "      <td>1515.94</td>\n",
       "    </tr>\n",
       "    <tr>\n",
       "      <th>2021-12-30</th>\n",
       "      <td>28450.0</td>\n",
       "      <td>78400</td>\n",
       "      <td>134300</td>\n",
       "      <td>70800.0</td>\n",
       "      <td>113900.0</td>\n",
       "      <td>48100.0</td>\n",
       "      <td>1485.97</td>\n",
       "      <td>1519.62</td>\n",
       "    </tr>\n",
       "    <tr>\n",
       "      <th>2021-12-31</th>\n",
       "      <td>28900.0</td>\n",
       "      <td>78800</td>\n",
       "      <td>135900</td>\n",
       "      <td>71300.0</td>\n",
       "      <td>113000.0</td>\n",
       "      <td>NaN</td>\n",
       "      <td>1498.28</td>\n",
       "      <td>1535.71</td>\n",
       "    </tr>\n",
       "  </tbody>\n",
       "</table>\n",
       "<p>1250 rows × 8 columns</p>\n",
       "</div>"
      ],
      "text/plain": [
       "            MBB.csv  VCB.csv  MWG.csv  PHR.csv   DHG.csv  LGC.csv  \\\n",
       "Date                                                                \n",
       "2017-01-03  13095.0    27643    37061  14304.0   65933.0  23000.0   \n",
       "2017-01-04  12952.0    27457    37203  14385.0   68200.0  24600.0   \n",
       "2017-01-05  12857.0    27569    37321  14547.0   68200.0  25100.0   \n",
       "2017-01-06  13095.0    28125    37321  14197.0   67333.0  25100.0   \n",
       "2017-01-09  13048.0    28719    37061  14008.0   67667.0  25600.0   \n",
       "...             ...      ...      ...      ...       ...      ...   \n",
       "2021-12-27  28150.0    79800   134900  72000.0  115600.0      NaN   \n",
       "2021-12-28  28300.0    80000   135800  71700.0  115900.0  48750.0   \n",
       "2021-12-29  28300.0    79500   134400  70800.0  113400.0  46250.0   \n",
       "2021-12-30  28450.0    78400   134300  70800.0  113900.0  48100.0   \n",
       "2021-12-31  28900.0    78800   135900  71300.0  113000.0      NaN   \n",
       "\n",
       "            VNIndex.csv  VN30.csv  \n",
       "Date                               \n",
       "2017-01-03       672.01    633.89  \n",
       "2017-01-04       674.70    632.70  \n",
       "2017-01-05       675.81    634.83  \n",
       "2017-01-06       679.80    636.34  \n",
       "2017-01-09       682.57    638.40  \n",
       "...                 ...       ...  \n",
       "2021-12-27      1488.88   1514.55  \n",
       "2021-12-28      1494.39   1523.54  \n",
       "2021-12-29      1485.82   1515.94  \n",
       "2021-12-30      1485.97   1519.62  \n",
       "2021-12-31      1498.28   1535.71  \n",
       "\n",
       "[1250 rows x 8 columns]"
      ]
     },
     "execution_count": 12,
     "metadata": {},
     "output_type": "execute_result"
    }
   ],
   "source": [
    "port"
   ]
  },
  {
   "cell_type": "markdown",
   "id": "4769541c",
   "metadata": {},
   "source": [
    "## Chuẩn hóa Variables"
   ]
  },
  {
   "cell_type": "code",
   "execution_count": 13,
   "id": "0216d710",
   "metadata": {},
   "outputs": [
    {
     "data": {
      "text/html": [
       "<div>\n",
       "<style scoped>\n",
       "    .dataframe tbody tr th:only-of-type {\n",
       "        vertical-align: middle;\n",
       "    }\n",
       "\n",
       "    .dataframe tbody tr th {\n",
       "        vertical-align: top;\n",
       "    }\n",
       "\n",
       "    .dataframe thead th {\n",
       "        text-align: right;\n",
       "    }\n",
       "</style>\n",
       "<table border=\"1\" class=\"dataframe\">\n",
       "  <thead>\n",
       "    <tr style=\"text-align: right;\">\n",
       "      <th></th>\n",
       "      <th>MBB</th>\n",
       "      <th>VCB</th>\n",
       "      <th>MWG</th>\n",
       "      <th>PHR</th>\n",
       "      <th>DHG</th>\n",
       "      <th>LGC</th>\n",
       "      <th>VNIndex</th>\n",
       "      <th>VN30</th>\n",
       "    </tr>\n",
       "    <tr>\n",
       "      <th>Date</th>\n",
       "      <th></th>\n",
       "      <th></th>\n",
       "      <th></th>\n",
       "      <th></th>\n",
       "      <th></th>\n",
       "      <th></th>\n",
       "      <th></th>\n",
       "      <th></th>\n",
       "    </tr>\n",
       "  </thead>\n",
       "  <tbody>\n",
       "    <tr>\n",
       "      <th>2017-01-03</th>\n",
       "      <td>13095.0</td>\n",
       "      <td>27643</td>\n",
       "      <td>37061</td>\n",
       "      <td>14304.0</td>\n",
       "      <td>65933.0</td>\n",
       "      <td>23000.0</td>\n",
       "      <td>672.01</td>\n",
       "      <td>633.89</td>\n",
       "    </tr>\n",
       "    <tr>\n",
       "      <th>2017-01-04</th>\n",
       "      <td>12952.0</td>\n",
       "      <td>27457</td>\n",
       "      <td>37203</td>\n",
       "      <td>14385.0</td>\n",
       "      <td>68200.0</td>\n",
       "      <td>24600.0</td>\n",
       "      <td>674.70</td>\n",
       "      <td>632.70</td>\n",
       "    </tr>\n",
       "    <tr>\n",
       "      <th>2017-01-05</th>\n",
       "      <td>12857.0</td>\n",
       "      <td>27569</td>\n",
       "      <td>37321</td>\n",
       "      <td>14547.0</td>\n",
       "      <td>68200.0</td>\n",
       "      <td>25100.0</td>\n",
       "      <td>675.81</td>\n",
       "      <td>634.83</td>\n",
       "    </tr>\n",
       "    <tr>\n",
       "      <th>2017-01-06</th>\n",
       "      <td>13095.0</td>\n",
       "      <td>28125</td>\n",
       "      <td>37321</td>\n",
       "      <td>14197.0</td>\n",
       "      <td>67333.0</td>\n",
       "      <td>25100.0</td>\n",
       "      <td>679.80</td>\n",
       "      <td>636.34</td>\n",
       "    </tr>\n",
       "    <tr>\n",
       "      <th>2017-01-09</th>\n",
       "      <td>13048.0</td>\n",
       "      <td>28719</td>\n",
       "      <td>37061</td>\n",
       "      <td>14008.0</td>\n",
       "      <td>67667.0</td>\n",
       "      <td>25600.0</td>\n",
       "      <td>682.57</td>\n",
       "      <td>638.40</td>\n",
       "    </tr>\n",
       "    <tr>\n",
       "      <th>...</th>\n",
       "      <td>...</td>\n",
       "      <td>...</td>\n",
       "      <td>...</td>\n",
       "      <td>...</td>\n",
       "      <td>...</td>\n",
       "      <td>...</td>\n",
       "      <td>...</td>\n",
       "      <td>...</td>\n",
       "    </tr>\n",
       "    <tr>\n",
       "      <th>2021-12-27</th>\n",
       "      <td>28150.0</td>\n",
       "      <td>79800</td>\n",
       "      <td>134900</td>\n",
       "      <td>72000.0</td>\n",
       "      <td>115600.0</td>\n",
       "      <td>NaN</td>\n",
       "      <td>1488.88</td>\n",
       "      <td>1514.55</td>\n",
       "    </tr>\n",
       "    <tr>\n",
       "      <th>2021-12-28</th>\n",
       "      <td>28300.0</td>\n",
       "      <td>80000</td>\n",
       "      <td>135800</td>\n",
       "      <td>71700.0</td>\n",
       "      <td>115900.0</td>\n",
       "      <td>48750.0</td>\n",
       "      <td>1494.39</td>\n",
       "      <td>1523.54</td>\n",
       "    </tr>\n",
       "    <tr>\n",
       "      <th>2021-12-29</th>\n",
       "      <td>28300.0</td>\n",
       "      <td>79500</td>\n",
       "      <td>134400</td>\n",
       "      <td>70800.0</td>\n",
       "      <td>113400.0</td>\n",
       "      <td>46250.0</td>\n",
       "      <td>1485.82</td>\n",
       "      <td>1515.94</td>\n",
       "    </tr>\n",
       "    <tr>\n",
       "      <th>2021-12-30</th>\n",
       "      <td>28450.0</td>\n",
       "      <td>78400</td>\n",
       "      <td>134300</td>\n",
       "      <td>70800.0</td>\n",
       "      <td>113900.0</td>\n",
       "      <td>48100.0</td>\n",
       "      <td>1485.97</td>\n",
       "      <td>1519.62</td>\n",
       "    </tr>\n",
       "    <tr>\n",
       "      <th>2021-12-31</th>\n",
       "      <td>28900.0</td>\n",
       "      <td>78800</td>\n",
       "      <td>135900</td>\n",
       "      <td>71300.0</td>\n",
       "      <td>113000.0</td>\n",
       "      <td>NaN</td>\n",
       "      <td>1498.28</td>\n",
       "      <td>1535.71</td>\n",
       "    </tr>\n",
       "  </tbody>\n",
       "</table>\n",
       "<p>1250 rows × 8 columns</p>\n",
       "</div>"
      ],
      "text/plain": [
       "                MBB    VCB     MWG      PHR       DHG      LGC  VNIndex  \\\n",
       "Date                                                                      \n",
       "2017-01-03  13095.0  27643   37061  14304.0   65933.0  23000.0   672.01   \n",
       "2017-01-04  12952.0  27457   37203  14385.0   68200.0  24600.0   674.70   \n",
       "2017-01-05  12857.0  27569   37321  14547.0   68200.0  25100.0   675.81   \n",
       "2017-01-06  13095.0  28125   37321  14197.0   67333.0  25100.0   679.80   \n",
       "2017-01-09  13048.0  28719   37061  14008.0   67667.0  25600.0   682.57   \n",
       "...             ...    ...     ...      ...       ...      ...      ...   \n",
       "2021-12-27  28150.0  79800  134900  72000.0  115600.0      NaN  1488.88   \n",
       "2021-12-28  28300.0  80000  135800  71700.0  115900.0  48750.0  1494.39   \n",
       "2021-12-29  28300.0  79500  134400  70800.0  113400.0  46250.0  1485.82   \n",
       "2021-12-30  28450.0  78400  134300  70800.0  113900.0  48100.0  1485.97   \n",
       "2021-12-31  28900.0  78800  135900  71300.0  113000.0      NaN  1498.28   \n",
       "\n",
       "               VN30  \n",
       "Date                 \n",
       "2017-01-03   633.89  \n",
       "2017-01-04   632.70  \n",
       "2017-01-05   634.83  \n",
       "2017-01-06   636.34  \n",
       "2017-01-09   638.40  \n",
       "...             ...  \n",
       "2021-12-27  1514.55  \n",
       "2021-12-28  1523.54  \n",
       "2021-12-29  1515.94  \n",
       "2021-12-30  1519.62  \n",
       "2021-12-31  1535.71  \n",
       "\n",
       "[1250 rows x 8 columns]"
      ]
     },
     "execution_count": 13,
     "metadata": {},
     "output_type": "execute_result"
    }
   ],
   "source": [
    "port.columns = ['MBB','VCB','MWG','PHR','DHG','LGC','VNIndex','VN30']\n",
    "port"
   ]
  },
  {
   "cell_type": "code",
   "execution_count": 14,
   "id": "60b8cde1",
   "metadata": {},
   "outputs": [
    {
     "data": {
      "text/html": [
       "<div>\n",
       "<style scoped>\n",
       "    .dataframe tbody tr th:only-of-type {\n",
       "        vertical-align: middle;\n",
       "    }\n",
       "\n",
       "    .dataframe tbody tr th {\n",
       "        vertical-align: top;\n",
       "    }\n",
       "\n",
       "    .dataframe thead th {\n",
       "        text-align: right;\n",
       "    }\n",
       "</style>\n",
       "<table border=\"1\" class=\"dataframe\">\n",
       "  <thead>\n",
       "    <tr style=\"text-align: right;\">\n",
       "      <th></th>\n",
       "      <th>MBB</th>\n",
       "      <th>VCB</th>\n",
       "      <th>MWG</th>\n",
       "      <th>PHR</th>\n",
       "      <th>DHG</th>\n",
       "      <th>LGC</th>\n",
       "      <th>VNIndex</th>\n",
       "      <th>VN30</th>\n",
       "    </tr>\n",
       "    <tr>\n",
       "      <th>Date</th>\n",
       "      <th></th>\n",
       "      <th></th>\n",
       "      <th></th>\n",
       "      <th></th>\n",
       "      <th></th>\n",
       "      <th></th>\n",
       "      <th></th>\n",
       "      <th></th>\n",
       "    </tr>\n",
       "  </thead>\n",
       "  <tbody>\n",
       "    <tr>\n",
       "      <th>2017-01-04</th>\n",
       "      <td>-0.010980</td>\n",
       "      <td>-0.006751</td>\n",
       "      <td>0.003824</td>\n",
       "      <td>0.005647</td>\n",
       "      <td>0.033805</td>\n",
       "      <td>0.067252</td>\n",
       "      <td>0.003995</td>\n",
       "      <td>-0.001879</td>\n",
       "    </tr>\n",
       "    <tr>\n",
       "      <th>2017-01-05</th>\n",
       "      <td>-0.007362</td>\n",
       "      <td>0.004071</td>\n",
       "      <td>0.003167</td>\n",
       "      <td>0.011199</td>\n",
       "      <td>0.000000</td>\n",
       "      <td>0.020121</td>\n",
       "      <td>0.001644</td>\n",
       "      <td>0.003361</td>\n",
       "    </tr>\n",
       "    <tr>\n",
       "      <th>2017-01-06</th>\n",
       "      <td>0.018342</td>\n",
       "      <td>0.019967</td>\n",
       "      <td>0.000000</td>\n",
       "      <td>-0.024354</td>\n",
       "      <td>-0.012794</td>\n",
       "      <td>0.000000</td>\n",
       "      <td>0.005887</td>\n",
       "      <td>0.002376</td>\n",
       "    </tr>\n",
       "    <tr>\n",
       "      <th>2017-01-09</th>\n",
       "      <td>-0.003596</td>\n",
       "      <td>0.020900</td>\n",
       "      <td>-0.006991</td>\n",
       "      <td>-0.013402</td>\n",
       "      <td>0.004948</td>\n",
       "      <td>0.019725</td>\n",
       "      <td>0.004066</td>\n",
       "      <td>0.003232</td>\n",
       "    </tr>\n",
       "    <tr>\n",
       "      <th>2017-01-12</th>\n",
       "      <td>0.007228</td>\n",
       "      <td>-0.014402</td>\n",
       "      <td>0.000000</td>\n",
       "      <td>0.000000</td>\n",
       "      <td>-0.001898</td>\n",
       "      <td>0.044997</td>\n",
       "      <td>-0.000291</td>\n",
       "      <td>-0.001773</td>\n",
       "    </tr>\n",
       "    <tr>\n",
       "      <th>...</th>\n",
       "      <td>...</td>\n",
       "      <td>...</td>\n",
       "      <td>...</td>\n",
       "      <td>...</td>\n",
       "      <td>...</td>\n",
       "      <td>...</td>\n",
       "      <td>...</td>\n",
       "      <td>...</td>\n",
       "    </tr>\n",
       "    <tr>\n",
       "      <th>2021-12-10</th>\n",
       "      <td>-0.007030</td>\n",
       "      <td>0.008028</td>\n",
       "      <td>0.000746</td>\n",
       "      <td>0.055769</td>\n",
       "      <td>-0.015146</td>\n",
       "      <td>0.045937</td>\n",
       "      <td>-0.003029</td>\n",
       "      <td>-0.006658</td>\n",
       "    </tr>\n",
       "    <tr>\n",
       "      <th>2021-12-13</th>\n",
       "      <td>0.001762</td>\n",
       "      <td>-0.004012</td>\n",
       "      <td>0.005948</td>\n",
       "      <td>0.016552</td>\n",
       "      <td>0.067546</td>\n",
       "      <td>0.006104</td>\n",
       "      <td>0.008620</td>\n",
       "      <td>0.000882</td>\n",
       "    </tr>\n",
       "    <tr>\n",
       "      <th>2021-12-24</th>\n",
       "      <td>0.030661</td>\n",
       "      <td>0.025808</td>\n",
       "      <td>0.007457</td>\n",
       "      <td>-0.018843</td>\n",
       "      <td>-0.043089</td>\n",
       "      <td>0.046884</td>\n",
       "      <td>0.013681</td>\n",
       "      <td>0.019638</td>\n",
       "    </tr>\n",
       "    <tr>\n",
       "      <th>2021-12-29</th>\n",
       "      <td>0.000000</td>\n",
       "      <td>-0.006270</td>\n",
       "      <td>-0.010363</td>\n",
       "      <td>-0.012632</td>\n",
       "      <td>-0.021806</td>\n",
       "      <td>-0.052644</td>\n",
       "      <td>-0.005751</td>\n",
       "      <td>-0.005001</td>\n",
       "    </tr>\n",
       "    <tr>\n",
       "      <th>2021-12-30</th>\n",
       "      <td>0.005286</td>\n",
       "      <td>-0.013933</td>\n",
       "      <td>-0.000744</td>\n",
       "      <td>0.000000</td>\n",
       "      <td>0.004399</td>\n",
       "      <td>0.039221</td>\n",
       "      <td>0.000101</td>\n",
       "      <td>0.002425</td>\n",
       "    </tr>\n",
       "  </tbody>\n",
       "</table>\n",
       "<p>538 rows × 8 columns</p>\n",
       "</div>"
      ],
      "text/plain": [
       "                 MBB       VCB       MWG       PHR       DHG       LGC  \\\n",
       "Date                                                                     \n",
       "2017-01-04 -0.010980 -0.006751  0.003824  0.005647  0.033805  0.067252   \n",
       "2017-01-05 -0.007362  0.004071  0.003167  0.011199  0.000000  0.020121   \n",
       "2017-01-06  0.018342  0.019967  0.000000 -0.024354 -0.012794  0.000000   \n",
       "2017-01-09 -0.003596  0.020900 -0.006991 -0.013402  0.004948  0.019725   \n",
       "2017-01-12  0.007228 -0.014402  0.000000  0.000000 -0.001898  0.044997   \n",
       "...              ...       ...       ...       ...       ...       ...   \n",
       "2021-12-10 -0.007030  0.008028  0.000746  0.055769 -0.015146  0.045937   \n",
       "2021-12-13  0.001762 -0.004012  0.005948  0.016552  0.067546  0.006104   \n",
       "2021-12-24  0.030661  0.025808  0.007457 -0.018843 -0.043089  0.046884   \n",
       "2021-12-29  0.000000 -0.006270 -0.010363 -0.012632 -0.021806 -0.052644   \n",
       "2021-12-30  0.005286 -0.013933 -0.000744  0.000000  0.004399  0.039221   \n",
       "\n",
       "             VNIndex      VN30  \n",
       "Date                            \n",
       "2017-01-04  0.003995 -0.001879  \n",
       "2017-01-05  0.001644  0.003361  \n",
       "2017-01-06  0.005887  0.002376  \n",
       "2017-01-09  0.004066  0.003232  \n",
       "2017-01-12 -0.000291 -0.001773  \n",
       "...              ...       ...  \n",
       "2021-12-10 -0.003029 -0.006658  \n",
       "2021-12-13  0.008620  0.000882  \n",
       "2021-12-24  0.013681  0.019638  \n",
       "2021-12-29 -0.005751 -0.005001  \n",
       "2021-12-30  0.000101  0.002425  \n",
       "\n",
       "[538 rows x 8 columns]"
      ]
     },
     "execution_count": 14,
     "metadata": {},
     "output_type": "execute_result"
    }
   ],
   "source": [
    "port_return = np.log(port/port.shift(1))\n",
    "port_return.dropna(inplace=True)\n",
    "port_return"
   ]
  },
  {
   "cell_type": "code",
   "execution_count": 15,
   "id": "24aeb4ac",
   "metadata": {},
   "outputs": [
    {
     "data": {
      "text/html": [
       "<div>\n",
       "<style scoped>\n",
       "    .dataframe tbody tr th:only-of-type {\n",
       "        vertical-align: middle;\n",
       "    }\n",
       "\n",
       "    .dataframe tbody tr th {\n",
       "        vertical-align: top;\n",
       "    }\n",
       "\n",
       "    .dataframe thead th {\n",
       "        text-align: right;\n",
       "    }\n",
       "</style>\n",
       "<table border=\"1\" class=\"dataframe\">\n",
       "  <thead>\n",
       "    <tr style=\"text-align: right;\">\n",
       "      <th></th>\n",
       "      <th>MBB</th>\n",
       "      <th>VCB</th>\n",
       "      <th>MWG</th>\n",
       "      <th>PHR</th>\n",
       "      <th>DHG</th>\n",
       "      <th>LGC</th>\n",
       "      <th>VNIndex</th>\n",
       "      <th>VN30</th>\n",
       "    </tr>\n",
       "  </thead>\n",
       "  <tbody>\n",
       "    <tr>\n",
       "      <th>MBB</th>\n",
       "      <td>0.000569</td>\n",
       "      <td>0.000222</td>\n",
       "      <td>0.000176</td>\n",
       "      <td>0.000202</td>\n",
       "      <td>0.000092</td>\n",
       "      <td>0.000010</td>\n",
       "      <td>0.000164</td>\n",
       "      <td>0.000183</td>\n",
       "    </tr>\n",
       "    <tr>\n",
       "      <th>VCB</th>\n",
       "      <td>0.000222</td>\n",
       "      <td>0.000319</td>\n",
       "      <td>0.000121</td>\n",
       "      <td>0.000113</td>\n",
       "      <td>0.000088</td>\n",
       "      <td>0.000009</td>\n",
       "      <td>0.000145</td>\n",
       "      <td>0.000150</td>\n",
       "    </tr>\n",
       "    <tr>\n",
       "      <th>MWG</th>\n",
       "      <td>0.000176</td>\n",
       "      <td>0.000121</td>\n",
       "      <td>0.000347</td>\n",
       "      <td>0.000153</td>\n",
       "      <td>0.000085</td>\n",
       "      <td>0.000037</td>\n",
       "      <td>0.000114</td>\n",
       "      <td>0.000133</td>\n",
       "    </tr>\n",
       "    <tr>\n",
       "      <th>PHR</th>\n",
       "      <td>0.000202</td>\n",
       "      <td>0.000113</td>\n",
       "      <td>0.000153</td>\n",
       "      <td>0.000522</td>\n",
       "      <td>0.000052</td>\n",
       "      <td>0.000039</td>\n",
       "      <td>0.000112</td>\n",
       "      <td>0.000116</td>\n",
       "    </tr>\n",
       "    <tr>\n",
       "      <th>DHG</th>\n",
       "      <td>0.000092</td>\n",
       "      <td>0.000088</td>\n",
       "      <td>0.000085</td>\n",
       "      <td>0.000052</td>\n",
       "      <td>0.000310</td>\n",
       "      <td>0.000002</td>\n",
       "      <td>0.000065</td>\n",
       "      <td>0.000069</td>\n",
       "    </tr>\n",
       "    <tr>\n",
       "      <th>LGC</th>\n",
       "      <td>0.000010</td>\n",
       "      <td>0.000009</td>\n",
       "      <td>0.000037</td>\n",
       "      <td>0.000039</td>\n",
       "      <td>0.000002</td>\n",
       "      <td>0.001954</td>\n",
       "      <td>0.000026</td>\n",
       "      <td>0.000014</td>\n",
       "    </tr>\n",
       "    <tr>\n",
       "      <th>VNIndex</th>\n",
       "      <td>0.000164</td>\n",
       "      <td>0.000145</td>\n",
       "      <td>0.000114</td>\n",
       "      <td>0.000112</td>\n",
       "      <td>0.000065</td>\n",
       "      <td>0.000026</td>\n",
       "      <td>0.000116</td>\n",
       "      <td>0.000120</td>\n",
       "    </tr>\n",
       "    <tr>\n",
       "      <th>VN30</th>\n",
       "      <td>0.000183</td>\n",
       "      <td>0.000150</td>\n",
       "      <td>0.000133</td>\n",
       "      <td>0.000116</td>\n",
       "      <td>0.000069</td>\n",
       "      <td>0.000014</td>\n",
       "      <td>0.000120</td>\n",
       "      <td>0.000134</td>\n",
       "    </tr>\n",
       "  </tbody>\n",
       "</table>\n",
       "</div>"
      ],
      "text/plain": [
       "              MBB       VCB       MWG       PHR       DHG       LGC   VNIndex  \\\n",
       "MBB      0.000569  0.000222  0.000176  0.000202  0.000092  0.000010  0.000164   \n",
       "VCB      0.000222  0.000319  0.000121  0.000113  0.000088  0.000009  0.000145   \n",
       "MWG      0.000176  0.000121  0.000347  0.000153  0.000085  0.000037  0.000114   \n",
       "PHR      0.000202  0.000113  0.000153  0.000522  0.000052  0.000039  0.000112   \n",
       "DHG      0.000092  0.000088  0.000085  0.000052  0.000310  0.000002  0.000065   \n",
       "LGC      0.000010  0.000009  0.000037  0.000039  0.000002  0.001954  0.000026   \n",
       "VNIndex  0.000164  0.000145  0.000114  0.000112  0.000065  0.000026  0.000116   \n",
       "VN30     0.000183  0.000150  0.000133  0.000116  0.000069  0.000014  0.000120   \n",
       "\n",
       "             VN30  \n",
       "MBB      0.000183  \n",
       "VCB      0.000150  \n",
       "MWG      0.000133  \n",
       "PHR      0.000116  \n",
       "DHG      0.000069  \n",
       "LGC      0.000014  \n",
       "VNIndex  0.000120  \n",
       "VN30     0.000134  "
      ]
     },
     "execution_count": 15,
     "metadata": {},
     "output_type": "execute_result"
    }
   ],
   "source": [
    "port_Cov = port_return.cov()\n",
    "port_Cov"
   ]
  },
  {
   "cell_type": "code",
   "execution_count": 16,
   "id": "b6a92a69",
   "metadata": {},
   "outputs": [
    {
     "data": {
      "text/html": [
       "<div>\n",
       "<style scoped>\n",
       "    .dataframe tbody tr th:only-of-type {\n",
       "        vertical-align: middle;\n",
       "    }\n",
       "\n",
       "    .dataframe tbody tr th {\n",
       "        vertical-align: top;\n",
       "    }\n",
       "\n",
       "    .dataframe thead th {\n",
       "        text-align: right;\n",
       "    }\n",
       "</style>\n",
       "<table border=\"1\" class=\"dataframe\">\n",
       "  <thead>\n",
       "    <tr style=\"text-align: right;\">\n",
       "      <th></th>\n",
       "      <th>MBB</th>\n",
       "      <th>VCB</th>\n",
       "      <th>MWG</th>\n",
       "      <th>PHR</th>\n",
       "      <th>DHG</th>\n",
       "      <th>LGC</th>\n",
       "      <th>VNIndex</th>\n",
       "      <th>VN30</th>\n",
       "    </tr>\n",
       "  </thead>\n",
       "  <tbody>\n",
       "    <tr>\n",
       "      <th>MBB</th>\n",
       "      <td>1.000000</td>\n",
       "      <td>0.520861</td>\n",
       "      <td>0.397077</td>\n",
       "      <td>0.371463</td>\n",
       "      <td>0.220124</td>\n",
       "      <td>0.009434</td>\n",
       "      <td>0.636550</td>\n",
       "      <td>0.662829</td>\n",
       "    </tr>\n",
       "    <tr>\n",
       "      <th>VCB</th>\n",
       "      <td>0.520861</td>\n",
       "      <td>1.000000</td>\n",
       "      <td>0.364466</td>\n",
       "      <td>0.277849</td>\n",
       "      <td>0.280386</td>\n",
       "      <td>0.011524</td>\n",
       "      <td>0.755533</td>\n",
       "      <td>0.726023</td>\n",
       "    </tr>\n",
       "    <tr>\n",
       "      <th>MWG</th>\n",
       "      <td>0.397077</td>\n",
       "      <td>0.364466</td>\n",
       "      <td>1.000000</td>\n",
       "      <td>0.360424</td>\n",
       "      <td>0.260430</td>\n",
       "      <td>0.045037</td>\n",
       "      <td>0.569808</td>\n",
       "      <td>0.617762</td>\n",
       "    </tr>\n",
       "    <tr>\n",
       "      <th>PHR</th>\n",
       "      <td>0.371463</td>\n",
       "      <td>0.277849</td>\n",
       "      <td>0.360424</td>\n",
       "      <td>1.000000</td>\n",
       "      <td>0.128160</td>\n",
       "      <td>0.039074</td>\n",
       "      <td>0.456219</td>\n",
       "      <td>0.439447</td>\n",
       "    </tr>\n",
       "    <tr>\n",
       "      <th>DHG</th>\n",
       "      <td>0.220124</td>\n",
       "      <td>0.280386</td>\n",
       "      <td>0.260430</td>\n",
       "      <td>0.128160</td>\n",
       "      <td>1.000000</td>\n",
       "      <td>0.002142</td>\n",
       "      <td>0.343283</td>\n",
       "      <td>0.340249</td>\n",
       "    </tr>\n",
       "    <tr>\n",
       "      <th>LGC</th>\n",
       "      <td>0.009434</td>\n",
       "      <td>0.011524</td>\n",
       "      <td>0.045037</td>\n",
       "      <td>0.039074</td>\n",
       "      <td>0.002142</td>\n",
       "      <td>1.000000</td>\n",
       "      <td>0.055257</td>\n",
       "      <td>0.028289</td>\n",
       "    </tr>\n",
       "    <tr>\n",
       "      <th>VNIndex</th>\n",
       "      <td>0.636550</td>\n",
       "      <td>0.755533</td>\n",
       "      <td>0.569808</td>\n",
       "      <td>0.456219</td>\n",
       "      <td>0.343283</td>\n",
       "      <td>0.055257</td>\n",
       "      <td>1.000000</td>\n",
       "      <td>0.963639</td>\n",
       "    </tr>\n",
       "    <tr>\n",
       "      <th>VN30</th>\n",
       "      <td>0.662829</td>\n",
       "      <td>0.726023</td>\n",
       "      <td>0.617762</td>\n",
       "      <td>0.439447</td>\n",
       "      <td>0.340249</td>\n",
       "      <td>0.028289</td>\n",
       "      <td>0.963639</td>\n",
       "      <td>1.000000</td>\n",
       "    </tr>\n",
       "  </tbody>\n",
       "</table>\n",
       "</div>"
      ],
      "text/plain": [
       "              MBB       VCB       MWG       PHR       DHG       LGC   VNIndex  \\\n",
       "MBB      1.000000  0.520861  0.397077  0.371463  0.220124  0.009434  0.636550   \n",
       "VCB      0.520861  1.000000  0.364466  0.277849  0.280386  0.011524  0.755533   \n",
       "MWG      0.397077  0.364466  1.000000  0.360424  0.260430  0.045037  0.569808   \n",
       "PHR      0.371463  0.277849  0.360424  1.000000  0.128160  0.039074  0.456219   \n",
       "DHG      0.220124  0.280386  0.260430  0.128160  1.000000  0.002142  0.343283   \n",
       "LGC      0.009434  0.011524  0.045037  0.039074  0.002142  1.000000  0.055257   \n",
       "VNIndex  0.636550  0.755533  0.569808  0.456219  0.343283  0.055257  1.000000   \n",
       "VN30     0.662829  0.726023  0.617762  0.439447  0.340249  0.028289  0.963639   \n",
       "\n",
       "             VN30  \n",
       "MBB      0.662829  \n",
       "VCB      0.726023  \n",
       "MWG      0.617762  \n",
       "PHR      0.439447  \n",
       "DHG      0.340249  \n",
       "LGC      0.028289  \n",
       "VNIndex  0.963639  \n",
       "VN30     1.000000  "
      ]
     },
     "execution_count": 16,
     "metadata": {},
     "output_type": "execute_result"
    }
   ],
   "source": [
    "port_Corr = port_return.corr()\n",
    "port_Corr"
   ]
  },
  {
   "cell_type": "code",
   "execution_count": 17,
   "id": "f947aced",
   "metadata": {},
   "outputs": [
    {
     "data": {
      "text/plain": [
       "array([[ True,  True,  True,  True,  True,  True,  True,  True],\n",
       "       [ True,  True,  True,  True,  True,  True,  True,  True],\n",
       "       [ True,  True,  True,  True,  True,  True,  True,  True],\n",
       "       [ True,  True,  True,  True,  True,  True,  True,  True],\n",
       "       [ True,  True,  True,  True,  True,  True,  True,  True],\n",
       "       [ True,  True,  True,  True,  True,  True,  True,  True],\n",
       "       [ True,  True,  True,  True,  True,  True,  True,  True],\n",
       "       [ True,  True,  True,  True,  True,  True,  True,  True]])"
      ]
     },
     "execution_count": 17,
     "metadata": {},
     "output_type": "execute_result"
    }
   ],
   "source": [
    "ones_Corr = np.ones_like(port_Corr,dtype=bool)\n",
    "ones_Corr"
   ]
  },
  {
   "cell_type": "code",
   "execution_count": 18,
   "id": "3e270f26",
   "metadata": {},
   "outputs": [
    {
     "data": {
      "text/plain": [
       "array([[ True,  True,  True,  True,  True,  True,  True,  True],\n",
       "       [False,  True,  True,  True,  True,  True,  True,  True],\n",
       "       [False, False,  True,  True,  True,  True,  True,  True],\n",
       "       [False, False, False,  True,  True,  True,  True,  True],\n",
       "       [False, False, False, False,  True,  True,  True,  True],\n",
       "       [False, False, False, False, False,  True,  True,  True],\n",
       "       [False, False, False, False, False, False,  True,  True],\n",
       "       [False, False, False, False, False, False, False,  True]])"
      ]
     },
     "execution_count": 18,
     "metadata": {},
     "output_type": "execute_result"
    }
   ],
   "source": [
    "mask = np.triu(ones_Corr)\n",
    "mask"
   ]
  },
  {
   "cell_type": "code",
   "execution_count": 19,
   "id": "c74543b5",
   "metadata": {},
   "outputs": [
    {
     "data": {
      "text/plain": [
       "array([[False,  True,  True,  True,  True,  True,  True],\n",
       "       [False, False,  True,  True,  True,  True,  True],\n",
       "       [False, False, False,  True,  True,  True,  True],\n",
       "       [False, False, False, False,  True,  True,  True],\n",
       "       [False, False, False, False, False,  True,  True],\n",
       "       [False, False, False, False, False, False,  True],\n",
       "       [False, False, False, False, False, False, False]])"
      ]
     },
     "execution_count": 19,
     "metadata": {},
     "output_type": "execute_result"
    }
   ],
   "source": [
    "adjust_mask = mask[1:, :-1]\n",
    "adjust_mask"
   ]
  },
  {
   "cell_type": "code",
   "execution_count": 20,
   "id": "dd7bf483",
   "metadata": {},
   "outputs": [],
   "source": [
    "adjust_port_Corr = port_Corr.iloc[1:, :-1]"
   ]
  },
  {
   "cell_type": "code",
   "execution_count": 21,
   "id": "b17de1bf",
   "metadata": {},
   "outputs": [
    {
     "data": {
      "text/plain": [
       "Text(0.5, 1.0, 'Tương quan giữa từng loại tài sản trong danh mục')"
      ]
     },
     "execution_count": 21,
     "metadata": {},
     "output_type": "execute_result"
    },
    {
     "data": {
      "image/png": "[encoded data removed]",
      "text/plain": [
       "<Figure size 720x576 with 2 Axes>"
      ]
     },
     "metadata": {
      "needs_background": "light"
     },
     "output_type": "display_data"
    }
   ],
   "source": [
    "fig, ax = plt.subplots(figsize=(10,8))\n",
    "\n",
    "cmap = sns.diverging_palette(0, 230, 90, 60, as_cmap=True)\n",
    "\n",
    "sns.heatmap(data=adjust_port_Corr, mask=adjust_mask, annot=True, cmap=cmap,linecolor='White',linewidths=0.1)\n",
    "\n",
    "title = 'Tương quan giữa từng loại tài sản trong danh mục'\n",
    "ax.set_title(title, loc='center',fontsize=20)"
   ]
  },
  {
   "cell_type": "code",
   "execution_count": 22,
   "id": "9cd4085d",
   "metadata": {},
   "outputs": [],
   "source": [
    "Cov_MBB_VNIndex = port_Cov.iloc[0,6]\n",
    "Cov_VCB_VNIndex = port_Cov.iloc[1,6]\n",
    "Cov_MWG_VNIndex = port_Cov.iloc[2,6]\n",
    "Cov_PHR_VNIndex = port_Cov.iloc[3,6]\n",
    "Cov_DHG_VNIndex = port_Cov.iloc[4,6]\n",
    "Cov_LGC_VNIndex = port_Cov.iloc[5,6]\n",
    "Cov_VN30_VNIndex = port_Cov.iloc[7,6]"
   ]
  },
  {
   "cell_type": "code",
   "execution_count": 23,
   "id": "9b7ba66a",
   "metadata": {},
   "outputs": [
    {
     "data": {
      "text/plain": [
       "0.0001635365626718792"
      ]
     },
     "execution_count": 23,
     "metadata": {},
     "output_type": "execute_result"
    }
   ],
   "source": [
    "Cov_MBB_VNIndex"
   ]
  },
  {
   "cell_type": "code",
   "execution_count": 24,
   "id": "14269bf8",
   "metadata": {},
   "outputs": [
    {
     "data": {
      "text/plain": [
       "0.00014536324545970323"
      ]
     },
     "execution_count": 24,
     "metadata": {},
     "output_type": "execute_result"
    }
   ],
   "source": [
    "Cov_VCB_VNIndex"
   ]
  },
  {
   "cell_type": "code",
   "execution_count": 25,
   "id": "b6094da4",
   "metadata": {},
   "outputs": [
    {
     "data": {
      "text/plain": [
       "0.00011434348098208295"
      ]
     },
     "execution_count": 25,
     "metadata": {},
     "output_type": "execute_result"
    }
   ],
   "source": [
    "Cov_MWG_VNIndex"
   ]
  },
  {
   "cell_type": "code",
   "execution_count": 26,
   "id": "536b3b23",
   "metadata": {},
   "outputs": [
    {
     "data": {
      "text/plain": [
       "0.00011232252019546194"
      ]
     },
     "execution_count": 26,
     "metadata": {},
     "output_type": "execute_result"
    }
   ],
   "source": [
    "Cov_PHR_VNIndex"
   ]
  },
  {
   "cell_type": "code",
   "execution_count": 27,
   "id": "32a45a0f",
   "metadata": {},
   "outputs": [
    {
     "data": {
      "text/plain": [
       "6.516668245554595e-05"
      ]
     },
     "execution_count": 27,
     "metadata": {},
     "output_type": "execute_result"
    }
   ],
   "source": [
    "Cov_DHG_VNIndex"
   ]
  },
  {
   "cell_type": "code",
   "execution_count": 28,
   "id": "771e1439",
   "metadata": {},
   "outputs": [
    {
     "data": {
      "text/plain": [
       "2.6318106986963764e-05"
      ]
     },
     "execution_count": 28,
     "metadata": {},
     "output_type": "execute_result"
    }
   ],
   "source": [
    "Cov_LGC_VNIndex"
   ]
  },
  {
   "cell_type": "code",
   "execution_count": 29,
   "id": "fd31e437",
   "metadata": {},
   "outputs": [
    {
     "data": {
      "text/plain": [
       "0.00012034247312792472"
      ]
     },
     "execution_count": 29,
     "metadata": {},
     "output_type": "execute_result"
    }
   ],
   "source": [
    "Cov_VN30_VNIndex"
   ]
  },
  {
   "cell_type": "code",
   "execution_count": 30,
   "id": "a5f7a17c",
   "metadata": {},
   "outputs": [],
   "source": [
    "VNIndex_Var = port_return['VNIndex'].var()"
   ]
  },
  {
   "cell_type": "code",
   "execution_count": 31,
   "id": "acb041f9",
   "metadata": {
    "scrolled": true
   },
   "outputs": [
    {
     "data": {
      "text/plain": [
       "0.00011609147382932464"
      ]
     },
     "execution_count": 31,
     "metadata": {},
     "output_type": "execute_result"
    }
   ],
   "source": [
    "VNIndex_Var"
   ]
  },
  {
   "cell_type": "code",
   "execution_count": 32,
   "id": "a2f70b97",
   "metadata": {},
   "outputs": [
    {
     "data": {
      "text/plain": [
       "0.00013434111881158268"
      ]
     },
     "execution_count": 32,
     "metadata": {},
     "output_type": "execute_result"
    }
   ],
   "source": [
    "VN30_Var = port_return['VN30'].var()\n",
    "VN30_Var"
   ]
  },
  {
   "attachments": {
    "image-3.png": {
     "image/png": "[encoded data removed]"
    }
   },
   "cell_type": "markdown",
   "id": "012707ed",
   "metadata": {},
   "source": [
    "## Tính Beta\n",
    "\n",
    "![image-3.png](attachment:image-3.png)"
   ]
  },
  {
   "cell_type": "markdown",
   "id": "60d60914",
   "metadata": {},
   "source": []
  },
  {
   "cell_type": "code",
   "execution_count": 33,
   "id": "eef678d8",
   "metadata": {},
   "outputs": [],
   "source": [
    "LGC_Beta = Cov_LGC_VNIndex/VNIndex_Var"
   ]
  },
  {
   "cell_type": "code",
   "execution_count": 34,
   "id": "70590875",
   "metadata": {},
   "outputs": [
    {
     "data": {
      "text/plain": [
       "0.22670146324144458"
      ]
     },
     "execution_count": 34,
     "metadata": {},
     "output_type": "execute_result"
    }
   ],
   "source": [
    "LGC_Beta"
   ]
  },
  {
   "cell_type": "code",
   "execution_count": 35,
   "id": "0aca7b38",
   "metadata": {},
   "outputs": [
    {
     "data": {
      "text/plain": [
       "0.19590507522775416"
      ]
     },
     "execution_count": 35,
     "metadata": {},
     "output_type": "execute_result"
    }
   ],
   "source": [
    "LGC_Beta = Cov_LGC_VNIndex/VN30_Var\n",
    "LGC_Beta"
   ]
  },
  {
   "cell_type": "code",
   "execution_count": 36,
   "id": "c7dcbb5f",
   "metadata": {},
   "outputs": [],
   "source": [
    "VN30_Beta = Cov_VN30_VNIndex/VNIndex_Var"
   ]
  },
  {
   "cell_type": "code",
   "execution_count": 37,
   "id": "622d2686",
   "metadata": {},
   "outputs": [
    {
     "data": {
      "text/plain": [
       "1.0366176701731757"
      ]
     },
     "execution_count": 37,
     "metadata": {},
     "output_type": "execute_result"
    }
   ],
   "source": [
    "VN30_Beta"
   ]
  },
  {
   "cell_type": "code",
   "execution_count": 38,
   "id": "c08bc4c8",
   "metadata": {},
   "outputs": [],
   "source": [
    "VCB_Beta = Cov_VCB_VNIndex/VNIndex_Var"
   ]
  },
  {
   "cell_type": "code",
   "execution_count": 39,
   "id": "8bc1661c",
   "metadata": {},
   "outputs": [
    {
     "data": {
      "text/plain": [
       "1.252144026299583"
      ]
     },
     "execution_count": 39,
     "metadata": {},
     "output_type": "execute_result"
    }
   ],
   "source": [
    "VCB_Beta"
   ]
  },
  {
   "cell_type": "code",
   "execution_count": 40,
   "id": "4be5d65a",
   "metadata": {},
   "outputs": [
    {
     "data": {
      "text/plain": [
       "1.252144026299583"
      ]
     },
     "execution_count": 40,
     "metadata": {},
     "output_type": "execute_result"
    }
   ],
   "source": [
    "port_Cov.loc['VCB','VNIndex']/VNIndex_Var"
   ]
  },
  {
   "cell_type": "code",
   "execution_count": 41,
   "id": "a9bdc005",
   "metadata": {
    "scrolled": true
   },
   "outputs": [
    {
     "data": {
      "text/plain": [
       "1.0820458155003116"
      ]
     },
     "execution_count": 41,
     "metadata": {},
     "output_type": "execute_result"
    }
   ],
   "source": [
    "VCB_Beta = Cov_VCB_VNIndex/VN30_Var\n",
    "VCB_Beta"
   ]
  },
  {
   "cell_type": "code",
   "execution_count": 51,
   "id": "fa837c4c",
   "metadata": {},
   "outputs": [
    {
     "data": {
      "text/plain": [
       "0.9849429696291775"
      ]
     },
     "execution_count": 51,
     "metadata": {},
     "output_type": "execute_result"
    }
   ],
   "source": [
    "MWG_Beta = Cov_MWG_VNIndex/VNIndex_Var\n",
    "MWG_Beta"
   ]
  },
  {
   "cell_type": "code",
   "execution_count": 42,
   "id": "1c66bc36",
   "metadata": {
    "scrolled": true
   },
   "outputs": [
    {
     "data": {
      "text/plain": [
       "MBB        1.408687\n",
       "VCB        1.252144\n",
       "MWG        0.984943\n",
       "PHR        0.967535\n",
       "DHG        0.561339\n",
       "LGC        0.226701\n",
       "VNIndex    1.000000\n",
       "VN30       1.036618\n",
       "Name: VNIndex, dtype: float64"
      ]
     },
     "execution_count": 42,
     "metadata": {},
     "output_type": "execute_result"
    }
   ],
   "source": [
    "port_Cov.loc['VNIndex']/VNIndex_Var"
   ]
  },
  {
   "cell_type": "code",
   "execution_count": 43,
   "id": "f245f20f",
   "metadata": {},
   "outputs": [
    {
     "data": {
      "text/plain": [
       "MBB        1.363574\n",
       "VCB        1.118528\n",
       "MWG        0.992658\n",
       "PHR        0.866354\n",
       "DHG        0.517208\n",
       "LGC        0.107892\n",
       "VNIndex    0.895798\n",
       "VN30       1.000000\n",
       "Name: VN30, dtype: float64"
      ]
     },
     "execution_count": 43,
     "metadata": {},
     "output_type": "execute_result"
    }
   ],
   "source": [
    "port_Cov.loc['VN30']/VN30_Var"
   ]
  },
  {
   "cell_type": "code",
   "execution_count": 44,
   "id": "81f07f22",
   "metadata": {},
   "outputs": [],
   "source": [
    "y = port_return['MWG']\n",
    "x = port_return['VNIndex']"
   ]
  },
  {
   "cell_type": "code",
   "execution_count": 45,
   "id": "fa4fd635",
   "metadata": {},
   "outputs": [
    {
     "data": {
      "text/plain": [
       "Date\n",
       "2017-01-04    0.003824\n",
       "2017-01-05    0.003167\n",
       "2017-01-06    0.000000\n",
       "2017-01-09   -0.006991\n",
       "2017-01-12    0.000000\n",
       "                ...   \n",
       "2021-12-10    0.000746\n",
       "2021-12-13    0.005948\n",
       "2021-12-24    0.007457\n",
       "2021-12-29   -0.010363\n",
       "2021-12-30   -0.000744\n",
       "Name: MWG, Length: 538, dtype: float64"
      ]
     },
     "execution_count": 45,
     "metadata": {},
     "output_type": "execute_result"
    }
   ],
   "source": [
    "y"
   ]
  },
  {
   "cell_type": "code",
   "execution_count": 46,
   "id": "fb9e3c64",
   "metadata": {},
   "outputs": [
    {
     "data": {
      "text/plain": [
       "Date\n",
       "2017-01-04    0.003995\n",
       "2017-01-05    0.001644\n",
       "2017-01-06    0.005887\n",
       "2017-01-09    0.004066\n",
       "2017-01-12   -0.000291\n",
       "                ...   \n",
       "2021-12-10   -0.003029\n",
       "2021-12-13    0.008620\n",
       "2021-12-24    0.013681\n",
       "2021-12-29   -0.005751\n",
       "2021-12-30    0.000101\n",
       "Name: VNIndex, Length: 538, dtype: float64"
      ]
     },
     "execution_count": 46,
     "metadata": {},
     "output_type": "execute_result"
    }
   ],
   "source": [
    "x"
   ]
  },
  {
   "cell_type": "code",
   "execution_count": 47,
   "id": "210f5be5",
   "metadata": {},
   "outputs": [
    {
     "data": {
      "text/plain": [
       "Text(0.5, 1.0, 'Thị giá MWG và chỉ số VNIndex')"
      ]
     },
     "execution_count": 47,
     "metadata": {},
     "output_type": "execute_result"
    },
    {
     "data": {
      "image/png": "[encoded data removed]",
      "text/plain": [
       "<Figure size 432x288 with 1 Axes>"
      ]
     },
     "metadata": {
      "needs_background": "light"
     },
     "output_type": "display_data"
    }
   ],
   "source": [
    "plt.scatter(x,y)\n",
    "plt.ylabel('MWG')\n",
    "plt.xlabel('VNIndex')\n",
    "plt.title(\"Thị giá MWG và chỉ số VNIndex\")"
   ]
  },
  {
   "cell_type": "code",
   "execution_count": 48,
   "id": "24993c55",
   "metadata": {},
   "outputs": [
    {
     "name": "stderr",
     "output_type": "stream",
     "text": [
      "C:\\Users\\DELL\\anaconda3\\lib\\site-packages\\statsmodels\\tsa\\tsatools.py:142: FutureWarning: In a future version of pandas all arguments of concat except for the argument 'objs' will be keyword-only\n",
      "  x = pd.concat(x[::order], 1)\n"
     ]
    },
    {
     "data": {
      "text/html": [
       "<div>\n",
       "<style scoped>\n",
       "    .dataframe tbody tr th:only-of-type {\n",
       "        vertical-align: middle;\n",
       "    }\n",
       "\n",
       "    .dataframe tbody tr th {\n",
       "        vertical-align: top;\n",
       "    }\n",
       "\n",
       "    .dataframe thead th {\n",
       "        text-align: right;\n",
       "    }\n",
       "</style>\n",
       "<table border=\"1\" class=\"dataframe\">\n",
       "  <thead>\n",
       "    <tr style=\"text-align: right;\">\n",
       "      <th></th>\n",
       "      <th>const</th>\n",
       "      <th>VNIndex</th>\n",
       "    </tr>\n",
       "    <tr>\n",
       "      <th>Date</th>\n",
       "      <th></th>\n",
       "      <th></th>\n",
       "    </tr>\n",
       "  </thead>\n",
       "  <tbody>\n",
       "    <tr>\n",
       "      <th>2017-01-04</th>\n",
       "      <td>1.0</td>\n",
       "      <td>0.003995</td>\n",
       "    </tr>\n",
       "    <tr>\n",
       "      <th>2017-01-05</th>\n",
       "      <td>1.0</td>\n",
       "      <td>0.001644</td>\n",
       "    </tr>\n",
       "    <tr>\n",
       "      <th>2017-01-06</th>\n",
       "      <td>1.0</td>\n",
       "      <td>0.005887</td>\n",
       "    </tr>\n",
       "    <tr>\n",
       "      <th>2017-01-09</th>\n",
       "      <td>1.0</td>\n",
       "      <td>0.004066</td>\n",
       "    </tr>\n",
       "    <tr>\n",
       "      <th>2017-01-12</th>\n",
       "      <td>1.0</td>\n",
       "      <td>-0.000291</td>\n",
       "    </tr>\n",
       "    <tr>\n",
       "      <th>...</th>\n",
       "      <td>...</td>\n",
       "      <td>...</td>\n",
       "    </tr>\n",
       "    <tr>\n",
       "      <th>2021-12-10</th>\n",
       "      <td>1.0</td>\n",
       "      <td>-0.003029</td>\n",
       "    </tr>\n",
       "    <tr>\n",
       "      <th>2021-12-13</th>\n",
       "      <td>1.0</td>\n",
       "      <td>0.008620</td>\n",
       "    </tr>\n",
       "    <tr>\n",
       "      <th>2021-12-24</th>\n",
       "      <td>1.0</td>\n",
       "      <td>0.013681</td>\n",
       "    </tr>\n",
       "    <tr>\n",
       "      <th>2021-12-29</th>\n",
       "      <td>1.0</td>\n",
       "      <td>-0.005751</td>\n",
       "    </tr>\n",
       "    <tr>\n",
       "      <th>2021-12-30</th>\n",
       "      <td>1.0</td>\n",
       "      <td>0.000101</td>\n",
       "    </tr>\n",
       "  </tbody>\n",
       "</table>\n",
       "<p>538 rows × 2 columns</p>\n",
       "</div>"
      ],
      "text/plain": [
       "            const   VNIndex\n",
       "Date                       \n",
       "2017-01-04    1.0  0.003995\n",
       "2017-01-05    1.0  0.001644\n",
       "2017-01-06    1.0  0.005887\n",
       "2017-01-09    1.0  0.004066\n",
       "2017-01-12    1.0 -0.000291\n",
       "...           ...       ...\n",
       "2021-12-10    1.0 -0.003029\n",
       "2021-12-13    1.0  0.008620\n",
       "2021-12-24    1.0  0.013681\n",
       "2021-12-29    1.0 -0.005751\n",
       "2021-12-30    1.0  0.000101\n",
       "\n",
       "[538 rows x 2 columns]"
      ]
     },
     "execution_count": 48,
     "metadata": {},
     "output_type": "execute_result"
    }
   ],
   "source": [
    "x1 = sm.add_constant(x)\n",
    "x1"
   ]
  },
  {
   "cell_type": "markdown",
   "id": "fd8f0a00",
   "metadata": {},
   "source": [
    "## Regression_Beta"
   ]
  },
  {
   "cell_type": "code",
   "execution_count": 49,
   "id": "dd008a07",
   "metadata": {},
   "outputs": [],
   "source": [
    "results_reg_MWG = sm.OLS(y,x1).fit()"
   ]
  },
  {
   "cell_type": "code",
   "execution_count": 50,
   "id": "9f4358e9",
   "metadata": {},
   "outputs": [
    {
     "data": {
      "text/html": [
       "<table class=\"simpletable\">\n",
       "<caption>OLS Regression Results</caption>\n",
       "<tr>\n",
       "  <th>Dep. Variable:</th>           <td>MWG</td>       <th>  R-squared:         </th> <td>   0.325</td>\n",
       "</tr>\n",
       "<tr>\n",
       "  <th>Model:</th>                   <td>OLS</td>       <th>  Adj. R-squared:    </th> <td>   0.323</td>\n",
       "</tr>\n",
       "<tr>\n",
       "  <th>Method:</th>             <td>Least Squares</td>  <th>  F-statistic:       </th> <td>   257.7</td>\n",
       "</tr>\n",
       "<tr>\n",
       "  <th>Date:</th>             <td>Sun, 05 Jun 2022</td> <th>  Prob (F-statistic):</th> <td>1.23e-47</td>\n",
       "</tr>\n",
       "<tr>\n",
       "  <th>Time:</th>                 <td>10:41:08</td>     <th>  Log-Likelihood:    </th> <td>  1485.7</td>\n",
       "</tr>\n",
       "<tr>\n",
       "  <th>No. Observations:</th>      <td>   538</td>      <th>  AIC:               </th> <td>  -2967.</td>\n",
       "</tr>\n",
       "<tr>\n",
       "  <th>Df Residuals:</th>          <td>   536</td>      <th>  BIC:               </th> <td>  -2959.</td>\n",
       "</tr>\n",
       "<tr>\n",
       "  <th>Df Model:</th>              <td>     1</td>      <th>                     </th>     <td> </td>   \n",
       "</tr>\n",
       "<tr>\n",
       "  <th>Covariance Type:</th>      <td>nonrobust</td>    <th>                     </th>     <td> </td>   \n",
       "</tr>\n",
       "</table>\n",
       "<table class=\"simpletable\">\n",
       "<tr>\n",
       "     <td></td>        <th>coef</th>     <th>std err</th>      <th>t</th>      <th>P>|t|</th>  <th>[0.025</th>    <th>0.975]</th>  \n",
       "</tr>\n",
       "<tr>\n",
       "  <th>const</th>   <td>    0.0010</td> <td>    0.001</td> <td>    1.513</td> <td> 0.131</td> <td>   -0.000</td> <td>    0.002</td>\n",
       "</tr>\n",
       "<tr>\n",
       "  <th>VNIndex</th> <td>    0.9849</td> <td>    0.061</td> <td>   16.053</td> <td> 0.000</td> <td>    0.864</td> <td>    1.105</td>\n",
       "</tr>\n",
       "</table>\n",
       "<table class=\"simpletable\">\n",
       "<tr>\n",
       "  <th>Omnibus:</th>       <td>74.698</td> <th>  Durbin-Watson:     </th> <td>   1.845</td>\n",
       "</tr>\n",
       "<tr>\n",
       "  <th>Prob(Omnibus):</th> <td> 0.000</td> <th>  Jarque-Bera (JB):  </th> <td> 283.725</td>\n",
       "</tr>\n",
       "<tr>\n",
       "  <th>Skew:</th>          <td> 0.578</td> <th>  Prob(JB):          </th> <td>2.45e-62</td>\n",
       "</tr>\n",
       "<tr>\n",
       "  <th>Kurtosis:</th>      <td> 6.365</td> <th>  Cond. No.          </th> <td>    92.9</td>\n",
       "</tr>\n",
       "</table><br/><br/>Notes:<br/>[1] Standard Errors assume that the covariance matrix of the errors is correctly specified."
      ],
      "text/plain": [
       "<class 'statsmodels.iolib.summary.Summary'>\n",
       "\"\"\"\n",
       "                            OLS Regression Results                            \n",
       "==============================================================================\n",
       "Dep. Variable:                    MWG   R-squared:                       0.325\n",
       "Model:                            OLS   Adj. R-squared:                  0.323\n",
       "Method:                 Least Squares   F-statistic:                     257.7\n",
       "Date:                Sun, 05 Jun 2022   Prob (F-statistic):           1.23e-47\n",
       "Time:                        10:41:08   Log-Likelihood:                 1485.7\n",
       "No. Observations:                 538   AIC:                            -2967.\n",
       "Df Residuals:                     536   BIC:                            -2959.\n",
       "Df Model:                           1                                         \n",
       "Covariance Type:            nonrobust                                         \n",
       "==============================================================================\n",
       "                 coef    std err          t      P>|t|      [0.025      0.975]\n",
       "------------------------------------------------------------------------------\n",
       "const          0.0010      0.001      1.513      0.131      -0.000       0.002\n",
       "VNIndex        0.9849      0.061     16.053      0.000       0.864       1.105\n",
       "==============================================================================\n",
       "Omnibus:                       74.698   Durbin-Watson:                   1.845\n",
       "Prob(Omnibus):                  0.000   Jarque-Bera (JB):              283.725\n",
       "Skew:                           0.578   Prob(JB):                     2.45e-62\n",
       "Kurtosis:                       6.365   Cond. No.                         92.9\n",
       "==============================================================================\n",
       "\n",
       "Notes:\n",
       "[1] Standard Errors assume that the covariance matrix of the errors is correctly specified.\n",
       "\"\"\""
      ]
     },
     "execution_count": 50,
     "metadata": {},
     "output_type": "execute_result"
    }
   ],
   "source": [
    "results_reg_MWG.summary()"
   ]
  },
  {
   "cell_type": "code",
   "execution_count": null,
   "id": "bd31da4d",
   "metadata": {},
   "outputs": [],
   "source": []
  },
  {
   "cell_type": "code",
   "execution_count": null,
   "id": "bb79d386",
   "metadata": {},
   "outputs": [],
   "source": []
  },
  {
   "cell_type": "code",
   "execution_count": null,
   "id": "d3c60132",
   "metadata": {},
   "outputs": [],
   "source": []
  },
  {
   "cell_type": "code",
   "execution_count": null,
   "id": "5300cd1e",
   "metadata": {},
   "outputs": [],
   "source": []
  },
  {
   "cell_type": "code",
   "execution_count": null,
   "id": "e0d7cb09",
   "metadata": {},
   "outputs": [],
   "source": []
  },
  {
   "cell_type": "code",
   "execution_count": null,
   "id": "eb0a9b30",
   "metadata": {},
   "outputs": [],
   "source": []
  },
  {
   "cell_type": "code",
   "execution_count": null,
   "id": "15be33ba",
   "metadata": {},
   "outputs": [],
   "source": []
  }
 ],
 "metadata": {
  "kernelspec": {
   "display_name": "Python 3 (ipykernel)",
   "language": "python",
   "name": "python3"
  },
  "language_info": {
   "codemirror_mode": {
    "name": "ipython",
    "version": 3
   },
   "file_extension": ".py",
   "mimetype": "text/x-python",
   "name": "python",
   "nbconvert_exporter": "python",
   "pygments_lexer": "ipython3",
   "version": "3.9.7"
  }
 },
 "nbformat": 4,
 "nbformat_minor": 5
}
